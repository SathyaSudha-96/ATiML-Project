{
 "cells": [
  {
   "cell_type": "code",
   "execution_count": 1,
   "metadata": {},
   "outputs": [],
   "source": [
    "import pandas as pd\n",
    "csvFileName  = 'C:\\\\Users\\\\sathy\\\\Desktop\\\\ATiML_Project\\\\master996.csv'\n",
    "data = pd.read_csv ( open ( csvFileName ), delimiter=';',encoding= 'unicode_escape')"
   ]
  },
  {
   "cell_type": "code",
   "execution_count": 2,
   "metadata": {},
   "outputs": [],
   "source": [
    "#Extracting the bookid into Dataframe column FileNo, book id pg10067- FileNo - 10067\n",
    "data['FileNo'] = data['book_id'].str.replace(r'\\D+', '').astype(int)\n",
    "\n",
    "#Sorting the books based on FileNo\n",
    "data.sort_values(by=['FileNo'], inplace=True)"
   ]
  },
  {
   "cell_type": "code",
   "execution_count": 3,
   "metadata": {},
   "outputs": [],
   "source": [
    "import glob\n",
    "\n",
    "# Getting all files and its names into dict and then converting to dataframe\"\"\"\n",
    "Content = {}\n",
    "\n",
    "#Its placed in Books folder at local , need to change it later \n",
    "%timeit\n",
    "files = glob.glob(\"C:\\\\Users\\\\sathy\\\\Desktop\\\\ATiML_Project\\\\Gutenberg_English_Fiction_1k\\\\Books\\\\*.html\")\n",
    "for f in files:\n",
    "    with open(f,mode ='r', encoding = 'utf8') as myfile:\n",
    "        Content[f]=myfile.read().replace(\"<br>\", '\\n')"
   ]
  },
  {
   "cell_type": "code",
   "execution_count": 4,
   "metadata": {},
   "outputs": [],
   "source": [
    "#Putting it in dataframe\n",
    "df = pd.DataFrame.from_dict(Content,orient='index').reset_index()\n",
    "#Renaming column names\n",
    "df.columns = ['File_Name', 'Data']\n",
    "#Adding FilNo column to join\n",
    "df['FileNo'] = df['File_Name'].str.replace(r'\\D+', '').astype(int)\n",
    "df.sort_values(by=['FileNo'], inplace=True)"
   ]
  },
  {
   "cell_type": "code",
   "execution_count": 10,
   "metadata": {},
   "outputs": [
    {
     "data": {
      "text/html": [
       "<div>\n",
       "<style scoped>\n",
       "    .dataframe tbody tr th:only-of-type {\n",
       "        vertical-align: middle;\n",
       "    }\n",
       "\n",
       "    .dataframe tbody tr th {\n",
       "        vertical-align: top;\n",
       "    }\n",
       "\n",
       "    .dataframe thead th {\n",
       "        text-align: right;\n",
       "    }\n",
       "</style>\n",
       "<table border=\"1\" class=\"dataframe\">\n",
       "  <thead>\n",
       "    <tr style=\"text-align: right;\">\n",
       "      <th></th>\n",
       "      <th>data</th>\n",
       "      <th>genre</th>\n",
       "    </tr>\n",
       "  </thead>\n",
       "  <tbody>\n",
       "    <tr>\n",
       "      <td>961</td>\n",
       "      <td>&lt;p&gt;It was Carnival time in the ancient and onc...</td>\n",
       "      <td>Literary</td>\n",
       "    </tr>\n",
       "    <tr>\n",
       "      <td>962</td>\n",
       "      <td>&lt;p&gt;A king\\n&lt;p&gt;Upon whose property...\\n&lt;p&gt;A dam...</td>\n",
       "      <td>Literary</td>\n",
       "    </tr>\n",
       "    <tr>\n",
       "      <td>995</td>\n",
       "      <td>&lt;p&gt;Edition: 10\\n&lt;p&gt;This eBook was produced by ...</td>\n",
       "      <td>Literary</td>\n",
       "    </tr>\n",
       "    <tr>\n",
       "      <td>958</td>\n",
       "      <td>&lt;p&gt;Her Fancy and His Fact\\n&lt;p&gt;The old by-road ...</td>\n",
       "      <td>Literary</td>\n",
       "    </tr>\n",
       "    <tr>\n",
       "      <td>959</td>\n",
       "      <td>&lt;p&gt;A solitary room at midnight: a single wax c...</td>\n",
       "      <td>Detective and Mystery</td>\n",
       "    </tr>\n",
       "    <tr>\n",
       "      <td>...</td>\n",
       "      <td>...</td>\n",
       "      <td>...</td>\n",
       "    </tr>\n",
       "    <tr>\n",
       "      <td>863</td>\n",
       "      <td>&lt;p&gt;issued June, 1907\\n&lt;p&gt;Devota\\n&lt;p&gt;Press of J...</td>\n",
       "      <td>Literary</td>\n",
       "    </tr>\n",
       "    <tr>\n",
       "      <td>864</td>\n",
       "      <td>&lt;p&gt;\"The light that never was on sea or land.\"\\...</td>\n",
       "      <td>Literary</td>\n",
       "    </tr>\n",
       "    <tr>\n",
       "      <td>865</td>\n",
       "      <td>&lt;p&gt;page 01b In the heart of a very maze of cou...</td>\n",
       "      <td>Literary</td>\n",
       "    </tr>\n",
       "    <tr>\n",
       "      <td>964</td>\n",
       "      <td>&lt;p&gt;A king\\n&lt;p&gt;Upon whose property...\\n&lt;p&gt;A dam...</td>\n",
       "      <td>Sea and Adventure</td>\n",
       "    </tr>\n",
       "    <tr>\n",
       "      <td>965</td>\n",
       "      <td>&lt;p&gt;WHAT Morley Quorn could not understand was ...</td>\n",
       "      <td>Sea and Adventure</td>\n",
       "    </tr>\n",
       "  </tbody>\n",
       "</table>\n",
       "<p>996 rows × 2 columns</p>\n",
       "</div>"
      ],
      "text/plain": [
       "                                                  data                  genre\n",
       "961  <p>It was Carnival time in the ancient and onc...               Literary\n",
       "962  <p>A king\\n<p>Upon whose property...\\n<p>A dam...               Literary\n",
       "995  <p>Edition: 10\\n<p>This eBook was produced by ...               Literary\n",
       "958  <p>Her Fancy and His Fact\\n<p>The old by-road ...               Literary\n",
       "959  <p>A solitary room at midnight: a single wax c...  Detective and Mystery\n",
       "..                                                 ...                    ...\n",
       "863  <p>issued June, 1907\\n<p>Devota\\n<p>Press of J...               Literary\n",
       "864  <p>\"The light that never was on sea or land.\"\\...               Literary\n",
       "865  <p>page 01b In the heart of a very maze of cou...               Literary\n",
       "964  <p>A king\\n<p>Upon whose property...\\n<p>A dam...      Sea and Adventure\n",
       "965  <p>WHAT Morley Quorn could not understand was ...      Sea and Adventure\n",
       "\n",
       "[996 rows x 2 columns]"
      ]
     },
     "execution_count": 10,
     "metadata": {},
     "output_type": "execute_result"
    }
   ],
   "source": [
    "data['Book_Data'] = df.Data\n",
    "data\n",
    "books = pd.DataFrame({'data':data.Book_Data, 'genre':data.guten_genre})\n",
    "books"
   ]
  },
  {
   "cell_type": "code",
   "execution_count": 11,
   "metadata": {},
   "outputs": [
    {
     "data": {
      "image/png": "[encoded data removed]",
      "text/plain": [
       "<Figure size 432x288 with 1 Axes>"
      ]
     },
     "metadata": {
      "needs_background": "light"
     },
     "output_type": "display_data"
    },
    {
     "data": {
      "text/plain": [
       "<Figure size 432x288 with 0 Axes>"
      ]
     },
     "metadata": {},
     "output_type": "display_data"
    }
   ],
   "source": [
    "# This is to see number of books per authors, but so many authors hence useless\n",
    "#ax = sns.barplot(x = books['Author_Name'], y = books['FileNo'])\n",
    "\n",
    "#Plotting number of authors per gerne\n",
    "import matplotlib.pyplot as plt\n",
    "books.groupby('genre')['data'].count().plot(kind = 'bar')\n",
    "plt.show()\n",
    "plt.clf()\n"
   ]
  },
  {
   "cell_type": "code",
   "execution_count": 12,
   "metadata": {},
   "outputs": [
    {
     "ename": "KeyboardInterrupt",
     "evalue": "",
     "output_type": "error",
     "traceback": [
      "\u001b[1;31m---------------------------------------------------------------------------\u001b[0m",
      "\u001b[1;31mKeyboardInterrupt\u001b[0m                         Traceback (most recent call last)",
      "\u001b[1;32m<ipython-input-12-849d23cd839d>\u001b[0m in \u001b[0;36m<module>\u001b[1;34m\u001b[0m\n\u001b[0;32m      1\u001b[0m \u001b[1;32mfrom\u001b[0m \u001b[0msklearn\u001b[0m\u001b[1;33m.\u001b[0m\u001b[0mfeature_extraction\u001b[0m\u001b[1;33m.\u001b[0m\u001b[0mtext\u001b[0m \u001b[1;32mimport\u001b[0m \u001b[0mCountVectorizer\u001b[0m\u001b[1;33m\u001b[0m\u001b[1;33m\u001b[0m\u001b[0m\n\u001b[0;32m      2\u001b[0m \u001b[0mcount_vect\u001b[0m \u001b[1;33m=\u001b[0m \u001b[0mCountVectorizer\u001b[0m\u001b[1;33m(\u001b[0m\u001b[1;33m)\u001b[0m\u001b[1;33m\u001b[0m\u001b[1;33m\u001b[0m\u001b[0m\n\u001b[1;32m----> 3\u001b[1;33m \u001b[0mX\u001b[0m \u001b[1;33m=\u001b[0m \u001b[0mcount_vect\u001b[0m\u001b[1;33m.\u001b[0m\u001b[0mfit_transform\u001b[0m\u001b[1;33m(\u001b[0m\u001b[0mbooks\u001b[0m\u001b[1;33m.\u001b[0m\u001b[0mdata\u001b[0m\u001b[1;33m)\u001b[0m\u001b[1;33m\u001b[0m\u001b[1;33m\u001b[0m\u001b[0m\n\u001b[0m\u001b[0;32m      4\u001b[0m \u001b[1;33m\u001b[0m\u001b[0m\n\u001b[0;32m      5\u001b[0m \u001b[0my\u001b[0m\u001b[1;33m=\u001b[0m \u001b[0mbooks\u001b[0m\u001b[1;33m[\u001b[0m\u001b[1;34m'genre'\u001b[0m\u001b[1;33m]\u001b[0m\u001b[1;33m\u001b[0m\u001b[1;33m\u001b[0m\u001b[0m\n",
      "\u001b[1;32m~\\AppData\\Local\\Continuum\\anaconda3\\lib\\site-packages\\sklearn\\feature_extraction\\text.py\u001b[0m in \u001b[0;36mfit_transform\u001b[1;34m(self, raw_documents, y)\u001b[0m\n\u001b[0;32m   1197\u001b[0m \u001b[1;33m\u001b[0m\u001b[0m\n\u001b[0;32m   1198\u001b[0m         vocabulary, X = self._count_vocab(raw_documents,\n\u001b[1;32m-> 1199\u001b[1;33m                                           self.fixed_vocabulary_)\n\u001b[0m\u001b[0;32m   1200\u001b[0m \u001b[1;33m\u001b[0m\u001b[0m\n\u001b[0;32m   1201\u001b[0m         \u001b[1;32mif\u001b[0m \u001b[0mself\u001b[0m\u001b[1;33m.\u001b[0m\u001b[0mbinary\u001b[0m\u001b[1;33m:\u001b[0m\u001b[1;33m\u001b[0m\u001b[1;33m\u001b[0m\u001b[0m\n",
      "\u001b[1;32m~\\AppData\\Local\\Continuum\\anaconda3\\lib\\site-packages\\sklearn\\feature_extraction\\text.py\u001b[0m in \u001b[0;36m_count_vocab\u001b[1;34m(self, raw_documents, fixed_vocab)\u001b[0m\n\u001b[0;32m   1114\u001b[0m                         \u001b[0mfeature_counter\u001b[0m\u001b[1;33m[\u001b[0m\u001b[0mfeature_idx\u001b[0m\u001b[1;33m]\u001b[0m \u001b[1;33m=\u001b[0m \u001b[1;36m1\u001b[0m\u001b[1;33m\u001b[0m\u001b[1;33m\u001b[0m\u001b[0m\n\u001b[0;32m   1115\u001b[0m                     \u001b[1;32melse\u001b[0m\u001b[1;33m:\u001b[0m\u001b[1;33m\u001b[0m\u001b[1;33m\u001b[0m\u001b[0m\n\u001b[1;32m-> 1116\u001b[1;33m                         \u001b[0mfeature_counter\u001b[0m\u001b[1;33m[\u001b[0m\u001b[0mfeature_idx\u001b[0m\u001b[1;33m]\u001b[0m \u001b[1;33m+=\u001b[0m \u001b[1;36m1\u001b[0m\u001b[1;33m\u001b[0m\u001b[1;33m\u001b[0m\u001b[0m\n\u001b[0m\u001b[0;32m   1117\u001b[0m                 \u001b[1;32mexcept\u001b[0m \u001b[0mKeyError\u001b[0m\u001b[1;33m:\u001b[0m\u001b[1;33m\u001b[0m\u001b[1;33m\u001b[0m\u001b[0m\n\u001b[0;32m   1118\u001b[0m                     \u001b[1;31m# Ignore out-of-vocabulary items for fixed_vocab=True\u001b[0m\u001b[1;33m\u001b[0m\u001b[1;33m\u001b[0m\u001b[1;33m\u001b[0m\u001b[0m\n",
      "\u001b[1;31mKeyboardInterrupt\u001b[0m: "
     ]
    }
   ],
   "source": [
    "from sklearn.feature_extraction.text import CountVectorizer\n",
    "count_vect = CountVectorizer()\n",
    "X = count_vect.fit_transform(books.data)\n",
    "\n",
    "y= books['genre']\n",
    "\n",
    "from sklearn.model_selection import train_test_split \n",
    "X_train, X_test, y_train, y_test = train_test_split(X, y, test_size = .3) \n",
    "\n",
    "from imblearn.over_sampling import SMOTE\n",
    "smote = SMOTE(sampling_strategy='auto', random_state=2, k_neighbors=1)\n",
    "X_train, y_train = smote.fit_resample(X_train,y_train)\n",
    "\n",
    "from sklearn.naive_bayes import MultinomialNB\n",
    "clf = MultinomialNB()\n",
    "\n",
    "c_score = clf.fit(X_train, y_train).score(X_test,y_test) \n",
    "print(\"Score before any preprocessing is :\"+str(c_score))\n",
    "\n",
    "#show the confusin matrix\n",
    "from sklearn.metrics import confusion_matrix \n",
    "from sklearn.metrics import classification_report \n",
    "y_pred = clf.predict(X_test)\n",
    "print(classification_report(y_test, y_pred)) \n",
    "cm = confusion_matrix(y_test, y_pred) \n",
    "print(cm)"
   ]
  },
  {
   "cell_type": "code",
   "execution_count": null,
   "metadata": {
    "scrolled": true
   },
   "outputs": [],
   "source": [
    "# import warnings filter\n",
    "from warnings import simplefilter\n",
    "# ignore all future warnings\n",
    "simplefilter(action='ignore', category=FutureWarning)\n",
    "\n",
    "from sklearn.feature_extraction.text import CountVectorizer\n",
    "count_vect = CountVectorizer()\n",
    "X = count_vect.fit_transform(books.data)\n",
    "\n",
    "y= books['genre']"
   ]
  },
  {
   "cell_type": "code",
   "execution_count": null,
   "metadata": {},
   "outputs": [],
   "source": [
    "from sklearn.model_selection import train_test_split \n",
    "X_train, X_test, y_train, y_test = train_test_split(X, y, test_size = .3) \n",
    "\n",
    "from imblearn.under_sampling import ClusterCentroids\n",
    "cc = ClusterCentroids(random_state=0)\n",
    "X_resampled, y_resampled = cc.fit_resample(X_train, y_train)\n",
    "\n",
    "from sklearn.linear_model import LogisticRegression\n",
    "clf = LogisticRegression()\n",
    "\n",
    "c_score = clf.fit(X_train, y_train).score(X_test,y_test) \n",
    "print(\"Score before any preprocessing is :\"+str(c_score))\n",
    "\n",
    "#show the confusin matrix\n",
    "from sklearn.metrics import confusion_matrix \n",
    "from sklearn.metrics import classification_report \n",
    "y_pred = clf.predict(X_test)\n",
    "print(classification_report(y_test, y_pred)) \n",
    "cm = confusion_matrix(y_test, y_pred) \n",
    "print(cm)"
   ]
  },
  {
   "cell_type": "code",
   "execution_count": 10,
   "metadata": {},
   "outputs": [
    {
     "name": "stdout",
     "output_type": "stream",
     "text": [
      "Score before any preprocessing is :0.7090301003344481\n",
      "                             precision    recall  f1-score   support\n",
      "\n",
      "          Christmas Stories       0.00      0.00      0.00         0\n",
      "      Detective and Mystery       0.11      0.07      0.08        30\n",
      "Humorous and Wit and Satire       0.00      0.00      0.00         2\n",
      "                   Literary       0.81      0.85      0.83       246\n",
      "           Love and Romance       0.00      0.00      0.00         3\n",
      "          Sea and Adventure       0.00      0.00      0.00        12\n",
      "            Western Stories       0.00      0.00      0.00         6\n",
      "\n",
      "                   accuracy                           0.71       299\n",
      "                  macro avg       0.13      0.13      0.13       299\n",
      "               weighted avg       0.68      0.71      0.69       299\n",
      "\n",
      "[[  0   0   0   0   0   0   0]\n",
      " [  0   2   0  27   0   0   1]\n",
      " [  0   0   0   2   0   0   0]\n",
      " [  1  16   1 210   1  10   7]\n",
      " [  0   0   0   3   0   0   0]\n",
      " [  0   0   0  12   0   0   0]\n",
      " [  0   1   0   5   0   0   0]]\n"
     ]
    },
    {
     "name": "stderr",
     "output_type": "stream",
     "text": [
      "C:\\Users\\sathy\\AppData\\Local\\Continuum\\anaconda3\\lib\\site-packages\\sklearn\\svm\\_base.py:977: ConvergenceWarning: Liblinear failed to converge, increase the number of iterations.\n",
      "  \"the number of iterations.\", ConvergenceWarning)\n",
      "C:\\Users\\sathy\\AppData\\Local\\Continuum\\anaconda3\\lib\\site-packages\\sklearn\\metrics\\_classification.py:1221: UndefinedMetricWarning: Recall and F-score are ill-defined and being set to 0.0 in labels with no true samples. Use `zero_division` parameter to control this behavior.\n",
      "  _warn_prf(average, modifier, msg_start, len(result))\n"
     ]
    }
   ],
   "source": [
    "# import warnings filter\n",
    "from warnings import simplefilter\n",
    "# ignore all future warnings\n",
    "simplefilter(action='ignore', category=FutureWarning)\n",
    "\n",
    "from sklearn.feature_extraction.text import CountVectorizer\n",
    "count_vect = CountVectorizer()\n",
    "X = count_vect.fit_transform(books.data)\n",
    "\n",
    "y= books['genre']\n",
    "\n",
    "from sklearn.model_selection import train_test_split \n",
    "X_train, X_test, y_train, y_test = train_test_split(X, y, test_size = .3) \n",
    "\n",
    "from imblearn.under_sampling import ClusterCentroids\n",
    "cc = ClusterCentroids(random_state=0)\n",
    "X_resampled, y_resampled = cc.fit_resample(X_train, y_train)\n",
    "\n",
    "from sklearn.svm import LinearSVC\n",
    "clf =  LinearSVC()\n",
    "\n",
    "c_score = clf.fit(X_train, y_train).score(X_test,y_test) \n",
    "print(\"Score before any preprocessing is :\"+str(c_score))\n",
    "\n",
    "#show the confusin matrix\n",
    "from sklearn.metrics import confusion_matrix \n",
    "from sklearn.metrics import classification_report \n",
    "y_pred = clf.predict(X_test)\n",
    "print(classification_report(y_test, y_pred)) \n",
    "cm = confusion_matrix(y_test, y_pred) \n",
    "print(cm)"
   ]
  },
  {
   "cell_type": "code",
   "execution_count": null,
   "metadata": {},
   "outputs": [],
   "source": []
  }
 ],
 "metadata": {
  "kernelspec": {
   "display_name": "Python 3",
   "language": "python",
   "name": "python3"
  },
  "language_info": {
   "codemirror_mode": {
    "name": "ipython",
    "version": 3
   },
   "file_extension": ".py",
   "mimetype": "text/x-python",
   "name": "python",
   "nbconvert_exporter": "python",
   "pygments_lexer": "ipython3",
   "version": "3.7.4"
  }
 },
 "nbformat": 4,
 "nbformat_minor": 2
}
